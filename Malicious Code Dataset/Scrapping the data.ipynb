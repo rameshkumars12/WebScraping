{
 "cells": [
  {
   "cell_type": "markdown",
   "id": "9c9ddb6d",
   "metadata": {},
   "source": [
    "### **Scrapping Fake URL's**\n"
   ]
  },
  {
   "cell_type": "code",
   "execution_count": 51,
   "id": "cab554ed",
   "metadata": {},
   "outputs": [],
   "source": [
    "from bs4 import BeautifulSoup as bs\n",
    "import requests \n",
    "import re\n",
    "import pandas as pd\n",
    "\n",
    "url = \"https://db.aa419.org/fakebankslist.php\"\n",
    "source = requests.get(url)\n",
    "soup = bs(source.content)"
   ]
  },
  {
   "cell_type": "code",
   "execution_count": 31,
   "id": "a9ddb5cd",
   "metadata": {},
   "outputs": [],
   "source": [
    "links = []\n",
    "for x in range(0,2001,21):\n",
    "    page_link = f\"https://db.aa419.org/fakebankslist.php?start={x}\"\n",
    "    source = requests.get(page_link)\n",
    "    soup = bs(source.content)\n",
    "    table = soup.find(class_ = \"ewTable\")\n",
    "    for i in table.find_all('a', attrs={'href': re.compile(\"^https://\")}):\n",
    "        links.append(i)"
   ]
  },
  {
   "cell_type": "code",
   "execution_count": 32,
   "id": "391a459d",
   "metadata": {},
   "outputs": [],
   "source": [
    "data = pd.DataFrame(links)\n",
    "data.to_csv(\"fake_urls.csv\",index = None)"
   ]
  },
  {
   "cell_type": "markdown",
   "id": "aa335a5c",
   "metadata": {},
   "source": [
    "### Scrapping Valid Url's"
   ]
  },
  {
   "cell_type": "code",
   "execution_count": 37,
   "id": "adc837c2",
   "metadata": {},
   "outputs": [],
   "source": [
    "url = \"https://gist.githubusercontent.com/jgamblin/62fadd8aa321f7f6a482912a6a317ea3/raw/33c6752125188cfdacdeee3f4fd6e01909e50eef/urls.txt\"\n",
    "res = requests.get(url, allow_redirects=True)\n",
    "with open(\"valid_urls.csv\",\"wb\") as file:\n",
    "    file.write(res.content)"
   ]
  },
  {
   "cell_type": "markdown",
   "id": "c2dd03f0",
   "metadata": {},
   "source": [
    "### Cleaning the Datasets"
   ]
  },
  {
   "cell_type": "markdown",
   "id": "57d1cc3f",
   "metadata": {},
   "source": [
    "##### Valid_urls Dataset"
   ]
  },
  {
   "cell_type": "code",
   "execution_count": 281,
   "id": "793e203e",
   "metadata": {},
   "outputs": [
    {
     "name": "stdout",
     "output_type": "stream",
     "text": [
      "(600, 2)\n"
     ]
    },
    {
     "data": {
      "text/html": [
       "<div>\n",
       "<style scoped>\n",
       "    .dataframe tbody tr th:only-of-type {\n",
       "        vertical-align: middle;\n",
       "    }\n",
       "\n",
       "    .dataframe tbody tr th {\n",
       "        vertical-align: top;\n",
       "    }\n",
       "\n",
       "    .dataframe thead th {\n",
       "        text-align: right;\n",
       "    }\n",
       "</style>\n",
       "<table border=\"1\" class=\"dataframe\">\n",
       "  <thead>\n",
       "    <tr style=\"text-align: right;\">\n",
       "      <th></th>\n",
       "      <th>0</th>\n",
       "      <th>label_0</th>\n",
       "    </tr>\n",
       "  </thead>\n",
       "  <tbody>\n",
       "    <tr>\n",
       "      <th>0</th>\n",
       "      <td>chouftv.ma</td>\n",
       "      <td>0</td>\n",
       "    </tr>\n",
       "    <tr>\n",
       "      <th>1</th>\n",
       "      <td>india.com</td>\n",
       "      <td>0</td>\n",
       "    </tr>\n",
       "    <tr>\n",
       "      <th>2</th>\n",
       "      <td>google.cl</td>\n",
       "      <td>0</td>\n",
       "    </tr>\n",
       "    <tr>\n",
       "      <th>3</th>\n",
       "      <td>merdeka.com</td>\n",
       "      <td>0</td>\n",
       "    </tr>\n",
       "    <tr>\n",
       "      <th>4</th>\n",
       "      <td>yandex.com.tr</td>\n",
       "      <td>0</td>\n",
       "    </tr>\n",
       "  </tbody>\n",
       "</table>\n",
       "</div>"
      ],
      "text/plain": [
       "               0  label_0\n",
       "0     chouftv.ma        0\n",
       "1      india.com        0\n",
       "2      google.cl        0\n",
       "3    merdeka.com        0\n",
       "4  yandex.com.tr        0"
      ]
     },
     "execution_count": 281,
     "metadata": {},
     "output_type": "execute_result"
    }
   ],
   "source": [
    "df = pd.read_csv(\"valid_urls.csv\",header=None)\n",
    "valid_urls = df.sample(n = 600, random_state = 0)\n",
    "valid_urls.reset_index(drop=True, inplace=True)\n",
    "valid_urls[\"label_0\"] = 0\n",
    "print(valid_urls.shape)\n",
    "valid_urls.head()"
   ]
  },
  {
   "cell_type": "markdown",
   "id": "38f2e3a9",
   "metadata": {},
   "source": [
    "##### **Fake_urls Datasets**"
   ]
  },
  {
   "cell_type": "code",
   "execution_count": 282,
   "id": "b64c7ac8",
   "metadata": {},
   "outputs": [
    {
     "name": "stdout",
     "output_type": "stream",
     "text": [
      "(600, 2)\n"
     ]
    }
   ],
   "source": [
    "df = pd.read_csv(\"fake_urls.csv\",header=None)\n",
    "fake_urls = df.sample(n = 600, random_state = 0)\n",
    "fake_urls.reset_index(drop=True, inplace=True)\n",
    "fake_urls[\"label_1\"] = 1\n",
    "print(fake_urls.shape)"
   ]
  },
  {
   "cell_type": "code",
   "execution_count": 283,
   "id": "c3fcd31f",
   "metadata": {},
   "outputs": [
    {
     "data": {
      "text/html": [
       "<div>\n",
       "<style scoped>\n",
       "    .dataframe tbody tr th:only-of-type {\n",
       "        vertical-align: middle;\n",
       "    }\n",
       "\n",
       "    .dataframe tbody tr th {\n",
       "        vertical-align: top;\n",
       "    }\n",
       "\n",
       "    .dataframe thead th {\n",
       "        text-align: right;\n",
       "    }\n",
       "</style>\n",
       "<table border=\"1\" class=\"dataframe\">\n",
       "  <thead>\n",
       "    <tr style=\"text-align: right;\">\n",
       "      <th></th>\n",
       "      <th>0</th>\n",
       "      <th>label_1</th>\n",
       "    </tr>\n",
       "  </thead>\n",
       "  <tbody>\n",
       "    <tr>\n",
       "      <th>0</th>\n",
       "      <td>craigmorehatchery.co.za</td>\n",
       "      <td>1</td>\n",
       "    </tr>\n",
       "    <tr>\n",
       "      <th>1</th>\n",
       "      <td>davex-energy.com</td>\n",
       "      <td>1</td>\n",
       "    </tr>\n",
       "    <tr>\n",
       "      <th>2</th>\n",
       "      <td>pedwillfoundation.com</td>\n",
       "      <td>1</td>\n",
       "    </tr>\n",
       "    <tr>\n",
       "      <th>3</th>\n",
       "      <td>swissoffshoreintel.com</td>\n",
       "      <td>1</td>\n",
       "    </tr>\n",
       "    <tr>\n",
       "      <th>4</th>\n",
       "      <td>elagancedachshundpuppies.com</td>\n",
       "      <td>1</td>\n",
       "    </tr>\n",
       "  </tbody>\n",
       "</table>\n",
       "</div>"
      ],
      "text/plain": [
       "                              0  label_1\n",
       "0       craigmorehatchery.co.za        1\n",
       "1              davex-energy.com        1\n",
       "2         pedwillfoundation.com        1\n",
       "3        swissoffshoreintel.com        1\n",
       "4  elagancedachshundpuppies.com        1"
      ]
     },
     "execution_count": 283,
     "metadata": {},
     "output_type": "execute_result"
    }
   ],
   "source": [
    "fake_urls[0] = fake_urls[0].str.replace(\"https://www.\",\"\",regex=True)\n",
    "fake_urls.head()"
   ]
  },
  {
   "cell_type": "markdown",
   "id": "2e2842fe",
   "metadata": {},
   "source": [
    "### Concating The Dataset"
   ]
  },
  {
   "cell_type": "code",
   "execution_count": 284,
   "id": "7beabb83",
   "metadata": {},
   "outputs": [
    {
     "data": {
      "text/html": [
       "<div>\n",
       "<style scoped>\n",
       "    .dataframe tbody tr th:only-of-type {\n",
       "        vertical-align: middle;\n",
       "    }\n",
       "\n",
       "    .dataframe tbody tr th {\n",
       "        vertical-align: top;\n",
       "    }\n",
       "\n",
       "    .dataframe thead th {\n",
       "        text-align: right;\n",
       "    }\n",
       "</style>\n",
       "<table border=\"1\" class=\"dataframe\">\n",
       "  <thead>\n",
       "    <tr style=\"text-align: right;\">\n",
       "      <th></th>\n",
       "      <th>urls</th>\n",
       "      <th>label_0</th>\n",
       "      <th>label_1</th>\n",
       "    </tr>\n",
       "  </thead>\n",
       "  <tbody>\n",
       "    <tr>\n",
       "      <th>0</th>\n",
       "      <td>chouftv.ma</td>\n",
       "      <td>0.0</td>\n",
       "      <td>NaN</td>\n",
       "    </tr>\n",
       "    <tr>\n",
       "      <th>1</th>\n",
       "      <td>india.com</td>\n",
       "      <td>0.0</td>\n",
       "      <td>NaN</td>\n",
       "    </tr>\n",
       "    <tr>\n",
       "      <th>2</th>\n",
       "      <td>google.cl</td>\n",
       "      <td>0.0</td>\n",
       "      <td>NaN</td>\n",
       "    </tr>\n",
       "    <tr>\n",
       "      <th>3</th>\n",
       "      <td>merdeka.com</td>\n",
       "      <td>0.0</td>\n",
       "      <td>NaN</td>\n",
       "    </tr>\n",
       "    <tr>\n",
       "      <th>4</th>\n",
       "      <td>yandex.com.tr</td>\n",
       "      <td>0.0</td>\n",
       "      <td>NaN</td>\n",
       "    </tr>\n",
       "  </tbody>\n",
       "</table>\n",
       "</div>"
      ],
      "text/plain": [
       "            urls  label_0  label_1\n",
       "0     chouftv.ma      0.0      NaN\n",
       "1      india.com      0.0      NaN\n",
       "2      google.cl      0.0      NaN\n",
       "3    merdeka.com      0.0      NaN\n",
       "4  yandex.com.tr      0.0      NaN"
      ]
     },
     "execution_count": 284,
     "metadata": {},
     "output_type": "execute_result"
    }
   ],
   "source": [
    "df_new = pd.concat([valid_urls,fake_urls],axis = 0,ignore_index=True)\n",
    "df_new = df_new.rename(columns={df_new.columns[0]: \"urls\"})\n",
    "df_new.head()"
   ]
  },
  {
   "cell_type": "markdown",
   "id": "8f21d875",
   "metadata": {},
   "source": [
    "### Cleaning the Dataset"
   ]
  },
  {
   "cell_type": "code",
   "execution_count": 285,
   "id": "4b700599",
   "metadata": {},
   "outputs": [],
   "source": [
    "df_new = df_new.fillna(0)"
   ]
  },
  {
   "cell_type": "code",
   "execution_count": 286,
   "id": "4b7fcbae",
   "metadata": {},
   "outputs": [],
   "source": [
    "df_new[\"labels\"] = df_new[\"label_0\"] + df_new[\"label_1\"]"
   ]
  },
  {
   "cell_type": "code",
   "execution_count": 287,
   "id": "ecb647dc",
   "metadata": {},
   "outputs": [],
   "source": [
    "df_new = df_new.drop(columns=[\"label_0\",\"label_1\"],axis= 1)"
   ]
  },
  {
   "cell_type": "code",
   "execution_count": 288,
   "id": "8d0dc9de",
   "metadata": {},
   "outputs": [
    {
     "data": {
      "text/html": [
       "<div>\n",
       "<style scoped>\n",
       "    .dataframe tbody tr th:only-of-type {\n",
       "        vertical-align: middle;\n",
       "    }\n",
       "\n",
       "    .dataframe tbody tr th {\n",
       "        vertical-align: top;\n",
       "    }\n",
       "\n",
       "    .dataframe thead th {\n",
       "        text-align: right;\n",
       "    }\n",
       "</style>\n",
       "<table border=\"1\" class=\"dataframe\">\n",
       "  <thead>\n",
       "    <tr style=\"text-align: right;\">\n",
       "      <th></th>\n",
       "      <th>urls</th>\n",
       "      <th>labels</th>\n",
       "    </tr>\n",
       "  </thead>\n",
       "  <tbody>\n",
       "    <tr>\n",
       "      <th>0</th>\n",
       "      <td>chouftv.ma</td>\n",
       "      <td>0.0</td>\n",
       "    </tr>\n",
       "    <tr>\n",
       "      <th>1</th>\n",
       "      <td>india.com</td>\n",
       "      <td>0.0</td>\n",
       "    </tr>\n",
       "    <tr>\n",
       "      <th>2</th>\n",
       "      <td>google.cl</td>\n",
       "      <td>0.0</td>\n",
       "    </tr>\n",
       "    <tr>\n",
       "      <th>3</th>\n",
       "      <td>merdeka.com</td>\n",
       "      <td>0.0</td>\n",
       "    </tr>\n",
       "    <tr>\n",
       "      <th>4</th>\n",
       "      <td>yandex.com.tr</td>\n",
       "      <td>0.0</td>\n",
       "    </tr>\n",
       "  </tbody>\n",
       "</table>\n",
       "</div>"
      ],
      "text/plain": [
       "            urls  labels\n",
       "0     chouftv.ma     0.0\n",
       "1      india.com     0.0\n",
       "2      google.cl     0.0\n",
       "3    merdeka.com     0.0\n",
       "4  yandex.com.tr     0.0"
      ]
     },
     "execution_count": 288,
     "metadata": {},
     "output_type": "execute_result"
    }
   ],
   "source": [
    "df_new.head()"
   ]
  },
  {
   "cell_type": "code",
   "execution_count": 289,
   "id": "626aef6c",
   "metadata": {},
   "outputs": [
    {
     "data": {
      "text/html": [
       "<div>\n",
       "<style scoped>\n",
       "    .dataframe tbody tr th:only-of-type {\n",
       "        vertical-align: middle;\n",
       "    }\n",
       "\n",
       "    .dataframe tbody tr th {\n",
       "        vertical-align: top;\n",
       "    }\n",
       "\n",
       "    .dataframe thead th {\n",
       "        text-align: right;\n",
       "    }\n",
       "</style>\n",
       "<table border=\"1\" class=\"dataframe\">\n",
       "  <thead>\n",
       "    <tr style=\"text-align: right;\">\n",
       "      <th></th>\n",
       "      <th>urls</th>\n",
       "      <th>labels</th>\n",
       "    </tr>\n",
       "  </thead>\n",
       "  <tbody>\n",
       "    <tr>\n",
       "      <th>1195</th>\n",
       "      <td>cutitesisabii.com</td>\n",
       "      <td>1.0</td>\n",
       "    </tr>\n",
       "    <tr>\n",
       "      <th>1196</th>\n",
       "      <td>batlantique-togo.com</td>\n",
       "      <td>1.0</td>\n",
       "    </tr>\n",
       "    <tr>\n",
       "      <th>1197</th>\n",
       "      <td>allantecuservices.com</td>\n",
       "      <td>1.0</td>\n",
       "    </tr>\n",
       "    <tr>\n",
       "      <th>1198</th>\n",
       "      <td>daleonservices.com</td>\n",
       "      <td>1.0</td>\n",
       "    </tr>\n",
       "    <tr>\n",
       "      <th>1199</th>\n",
       "      <td>markhowardpartners.com</td>\n",
       "      <td>1.0</td>\n",
       "    </tr>\n",
       "  </tbody>\n",
       "</table>\n",
       "</div>"
      ],
      "text/plain": [
       "                        urls  labels\n",
       "1195       cutitesisabii.com     1.0\n",
       "1196    batlantique-togo.com     1.0\n",
       "1197   allantecuservices.com     1.0\n",
       "1198      daleonservices.com     1.0\n",
       "1199  markhowardpartners.com     1.0"
      ]
     },
     "execution_count": 289,
     "metadata": {},
     "output_type": "execute_result"
    }
   ],
   "source": [
    "df_new.tail()"
   ]
  },
  {
   "cell_type": "code",
   "execution_count": 292,
   "id": "6f2eb6a9",
   "metadata": {},
   "outputs": [],
   "source": [
    "df_new[\"labels\"] = df_new[\"labels\"].astype(int)"
   ]
  },
  {
   "cell_type": "code",
   "execution_count": 293,
   "id": "d508eaf6",
   "metadata": {},
   "outputs": [
    {
     "data": {
      "text/plain": [
       "0    600\n",
       "1    600\n",
       "Name: labels, dtype: int64"
      ]
     },
     "execution_count": 293,
     "metadata": {},
     "output_type": "execute_result"
    }
   ],
   "source": [
    "df_new[\"labels\"].value_counts()"
   ]
  },
  {
   "cell_type": "code",
   "execution_count": 295,
   "id": "10a7dcef",
   "metadata": {},
   "outputs": [
    {
     "data": {
      "text/html": [
       "<div>\n",
       "<style scoped>\n",
       "    .dataframe tbody tr th:only-of-type {\n",
       "        vertical-align: middle;\n",
       "    }\n",
       "\n",
       "    .dataframe tbody tr th {\n",
       "        vertical-align: top;\n",
       "    }\n",
       "\n",
       "    .dataframe thead th {\n",
       "        text-align: right;\n",
       "    }\n",
       "</style>\n",
       "<table border=\"1\" class=\"dataframe\">\n",
       "  <thead>\n",
       "    <tr style=\"text-align: right;\">\n",
       "      <th></th>\n",
       "      <th>urls</th>\n",
       "      <th>labels</th>\n",
       "    </tr>\n",
       "  </thead>\n",
       "  <tbody>\n",
       "    <tr>\n",
       "      <th>0</th>\n",
       "      <td>chouftv.ma</td>\n",
       "      <td>0</td>\n",
       "    </tr>\n",
       "    <tr>\n",
       "      <th>1</th>\n",
       "      <td>india.com</td>\n",
       "      <td>0</td>\n",
       "    </tr>\n",
       "    <tr>\n",
       "      <th>2</th>\n",
       "      <td>google.cl</td>\n",
       "      <td>0</td>\n",
       "    </tr>\n",
       "    <tr>\n",
       "      <th>3</th>\n",
       "      <td>merdeka.com</td>\n",
       "      <td>0</td>\n",
       "    </tr>\n",
       "    <tr>\n",
       "      <th>4</th>\n",
       "      <td>yandex.com.tr</td>\n",
       "      <td>0</td>\n",
       "    </tr>\n",
       "  </tbody>\n",
       "</table>\n",
       "</div>"
      ],
      "text/plain": [
       "            urls  labels\n",
       "0     chouftv.ma       0\n",
       "1      india.com       0\n",
       "2      google.cl       0\n",
       "3    merdeka.com       0\n",
       "4  yandex.com.tr       0"
      ]
     },
     "execution_count": 295,
     "metadata": {},
     "output_type": "execute_result"
    }
   ],
   "source": [
    "df_new.head()"
   ]
  },
  {
   "cell_type": "code",
   "execution_count": 294,
   "id": "6d87dbd5",
   "metadata": {},
   "outputs": [],
   "source": [
    "df_new.to_csv(\"malicious_code_predict.csv\")"
   ]
  }
 ],
 "metadata": {
  "kernelspec": {
   "display_name": "Python 3",
   "language": "python",
   "name": "python3"
  },
  "language_info": {
   "codemirror_mode": {
    "name": "ipython",
    "version": 3
   },
   "file_extension": ".py",
   "mimetype": "text/x-python",
   "name": "python",
   "nbconvert_exporter": "python",
   "pygments_lexer": "ipython3",
   "version": "3.8.8"
  }
 },
 "nbformat": 4,
 "nbformat_minor": 5
}
