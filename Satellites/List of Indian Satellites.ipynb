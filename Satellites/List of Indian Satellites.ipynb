{
 "cells": [
  {
   "cell_type": "markdown",
   "id": "48022e2a",
   "metadata": {},
   "source": [
    "### Importing the Libraries"
   ]
  },
  {
   "cell_type": "code",
   "execution_count": 1,
   "id": "55a04d98",
   "metadata": {},
   "outputs": [
    {
     "ename": "AttributeError",
     "evalue": "'NoneType' object has no attribute 'find'",
     "output_type": "error",
     "traceback": [
      "\u001b[1;31m---------------------------------------------------------------------------\u001b[0m",
      "\u001b[1;31mAttributeError\u001b[0m                            Traceback (most recent call last)",
      "\u001b[1;32m<ipython-input-1-430258120411>\u001b[0m in \u001b[0;36m<module>\u001b[1;34m\u001b[0m\n\u001b[0;32m      7\u001b[0m \u001b[0msoup\u001b[0m \u001b[1;33m=\u001b[0m \u001b[0mbs\u001b[0m\u001b[1;33m(\u001b[0m\u001b[0msource\u001b[0m\u001b[1;33m.\u001b[0m\u001b[0mcontent\u001b[0m\u001b[1;33m)\u001b[0m\u001b[1;33m\u001b[0m\u001b[1;33m\u001b[0m\u001b[0m\n\u001b[0;32m      8\u001b[0m \u001b[0minfo_box\u001b[0m \u001b[1;33m=\u001b[0m \u001b[0msoup\u001b[0m\u001b[1;33m.\u001b[0m\u001b[0mfind\u001b[0m\u001b[1;33m(\u001b[0m\u001b[0mclass_\u001b[0m \u001b[1;33m=\u001b[0m \u001b[1;34m\"infobox\"\u001b[0m\u001b[1;33m)\u001b[0m\u001b[1;33m\u001b[0m\u001b[1;33m\u001b[0m\u001b[0m\n\u001b[1;32m----> 9\u001b[1;33m \u001b[0minfo_cap\u001b[0m \u001b[1;33m=\u001b[0m \u001b[0minfo_box\u001b[0m\u001b[1;33m.\u001b[0m\u001b[0mfind\u001b[0m\u001b[1;33m(\u001b[0m\u001b[1;34m\"caption\"\u001b[0m\u001b[1;33m)\u001b[0m\u001b[1;33m.\u001b[0m\u001b[0mget_text\u001b[0m\u001b[1;33m(\u001b[0m\u001b[1;33m)\u001b[0m\u001b[1;33m\u001b[0m\u001b[1;33m\u001b[0m\u001b[0m\n\u001b[0m\u001b[0;32m     10\u001b[0m \u001b[0minfo_cap\u001b[0m\u001b[1;33m\u001b[0m\u001b[1;33m\u001b[0m\u001b[0m\n\u001b[0;32m     11\u001b[0m \u001b[0minfo_row\u001b[0m \u001b[1;33m=\u001b[0m \u001b[0minfo_box\u001b[0m\u001b[1;33m.\u001b[0m\u001b[0mfind_all\u001b[0m\u001b[1;33m(\u001b[0m\u001b[1;34m\"tr\"\u001b[0m\u001b[1;33m)\u001b[0m\u001b[1;33m\u001b[0m\u001b[1;33m\u001b[0m\u001b[0m\n",
      "\u001b[1;31mAttributeError\u001b[0m: 'NoneType' object has no attribute 'find'"
     ]
    }
   ],
   "source": [
    "from bs4 import BeautifulSoup as bs\n",
    "import requests\n",
    "import pandas as pd\n",
    "\n",
    "\n",
    "source = requests.get(\"https://en.wikipedia.org/wiki/List_of_USA_satellites\")\n",
    "soup = bs(source.content)\n",
    "info_box = soup.find(class_ = \"infobox\")\n",
    "info_cap = info_box.find(\"caption\").get_text()\n",
    "info_cap\n",
    "info_row = info_box.find_all(\"tr\")\n",
    "\n",
    "satellites = {}\n",
    "for index, row in enumerate(info_row):\n",
    "        try:\n",
    "            if index == 0:\n",
    "                continue\n",
    "            elif index == 1:\n",
    "                continue\n",
    "            else:\n",
    "                satellites[\"Name\"] = info_cap\n",
    "                content_key = row.find(\"th\").get_text().replace(\"\\xa0\", \" \")\n",
    "                content_value = row.find(\"td\").get_text().replace(\"\\xa0\", \" \")\n",
    "                satellites[content_key]= content_value\n",
    "        except Exception as e:\n",
    "            content_key = None"
   ]
  },
  {
   "cell_type": "markdown",
   "id": "ab990ba8",
   "metadata": {},
   "source": [
    "### Scrapping all data"
   ]
  },
  {
   "cell_type": "code",
   "execution_count": 12,
   "id": "5529e815",
   "metadata": {},
   "outputs": [],
   "source": [
    "source = requests.get(\"https://en.wikipedia.org/wiki/List_of_USA_satellites\")\n",
    "soup = bs(source.content)\n",
    "first_column = soup.select('table tr td:nth-of-type(2)')\n",
    "\n",
    "def get_url(url):\n",
    "    source = requests.get(url)\n",
    "    soup = bs(source.content)\n",
    "    info_box = soup.find(class_ = \"infobox\")\n",
    "    info_cap = info_box.find(\"caption\").get_text()    \n",
    "    info_row = info_box.find_all(\"tr\")\n",
    "    \n",
    "    \n",
    "    satellites = {}\n",
    "    for index, row in enumerate(info_row):\n",
    "            try:\n",
    "                if index == 0:\n",
    "                    continue\n",
    "                elif index == 1:\n",
    "                    continue\n",
    "                else:\n",
    "                    satellites[\"Name\"] = info_cap\n",
    "                    content_key = row.find(\"th\").get_text().replace(\"\\xa0\", \" \")\n",
    "                    content_value = row.find(\"td\").get_text().replace(\"\\xa0\", \" \")\n",
    "                    satellites[content_key]= content_value\n",
    "            except Exception as e:\n",
    "                content_key = None\n",
    "    return satellites\n",
    "\n",
    "Sat = []\n",
    "for rows in first_column:\n",
    "    col = rows.find_all(\"a\")\n",
    "    for index,content in enumerate(col):\n",
    "        try:\n",
    "            title = content[\"title\"]\n",
    "            link = content[\"href\"]\n",
    "            base_path = f'https://en.wikipedia.org/{link}'\n",
    "            Sat.append(get_url(base_path))\n",
    "        except Exception as e:\n",
    "            title = None\n",
    "\n",
    "            "
   ]
  },
  {
   "cell_type": "code",
   "execution_count": 10,
   "id": "549dd11d",
   "metadata": {},
   "outputs": [],
   "source": [
    "import pandas as pd\n",
    "df = pd.DataFrame(Sat)"
   ]
  },
  {
   "cell_type": "code",
   "execution_count": 11,
   "id": "8586fbb2",
   "metadata": {},
   "outputs": [],
   "source": [
    "df.to_csv(\"List Of USA Satellites.csv\")"
   ]
  },
  {
   "cell_type": "code",
   "execution_count": null,
   "id": "7e73fd68",
   "metadata": {},
   "outputs": [],
   "source": []
  }
 ],
 "metadata": {
  "kernelspec": {
   "display_name": "Python 3",
   "language": "python",
   "name": "python3"
  },
  "language_info": {
   "codemirror_mode": {
    "name": "ipython",
    "version": 3
   },
   "file_extension": ".py",
   "mimetype": "text/x-python",
   "name": "python",
   "nbconvert_exporter": "python",
   "pygments_lexer": "ipython3",
   "version": "3.8.8"
  }
 },
 "nbformat": 4,
 "nbformat_minor": 5
}
